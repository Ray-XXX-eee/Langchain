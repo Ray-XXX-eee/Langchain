{
 "cells": [
  {
   "cell_type": "code",
   "execution_count": null,
   "metadata": {},
   "outputs": [],
   "source": [
    "from llama_index.readers.web import SimpleWebPageReader\n",
    "from llama_index.core import VectorStoreIndex\n",
    "from llama_index.llms.huggingface import HuggingFaceLLM\n",
    "from dotenv import load_dotenv\n",
    "\n",
    "load_dotenv()\n",
    "\n",
    "url = \"https://en.wikipedia.org/wiki/Myocardial_infarction\"\n",
    "\n",
    "def reader(urls: str) -> None:\n",
    "    document = SimpleWebPageReader(html_to_text=True).load_data(urls=[url])\n",
    "    \n",
    "    # ✅ Check if data is being loaded\n",
    "    print(f\"Loaded {len(document)} documents\")\n",
    "    if len(document) == 0:\n",
    "        raise ValueError(\"No data was loaded. Check the URL or network connection.\")\n",
    "    \n",
    "    llm = HuggingFaceLLM(\n",
    "    model_name=\"HuggingFaceH4/zephyr-7b-beta\",\n",
    "    tokenizer_name=\"HuggingFaceH4/zephyr-7b-beta\",\n",
    "    context_window=3900,\n",
    "    max_new_tokens=256,\n",
    "    generate_kwargs={\"temperature\": 0.7, \"top_k\": 50, \"top_p\": 0.95},\n",
    "    # messages_to_prompt=messages_to_prompt,\n",
    "    # completion_to_prompt=completion_to_prompt,\n",
    "    device_map=\"auto\",\n",
    ")\n",
    "    \n",
    "    # ✅ Create the index correctly\n",
    "    index = VectorStoreIndex.from_documents(documents=document)  # Remove extra ()\n",
    "    query_engine = index.as_query_engine(llm=llm)\n",
    "    \n",
    "    response = query_engine.query(\"What is the best immediate treatment for myocardial infarction?\")\n",
    "    print(response)\n",
    "\n",
    "reader(url)\n"
   ]
  },
  {
   "cell_type": "code",
   "execution_count": null,
   "metadata": {},
   "outputs": [],
   "source": []
  }
 ],
 "metadata": {
  "kernelspec": {
   "display_name": "Python 3",
   "language": "python",
   "name": "python3"
  },
  "language_info": {
   "codemirror_mode": {
    "name": "ipython",
    "version": 3
   },
   "file_extension": ".py",
   "mimetype": "text/x-python",
   "name": "python",
   "nbconvert_exporter": "python",
   "pygments_lexer": "ipython3",
   "version": "3.13.2"
  }
 },
 "nbformat": 4,
 "nbformat_minor": 2
}
